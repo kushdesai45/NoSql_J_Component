{
  "nbformat": 4,
  "nbformat_minor": 0,
  "metadata": {
    "accelerator": "GPU",
    "colab": {
      "name": "nosqlproject.ipynb",
      "provenance": [],
      "collapsed_sections": []
    },
    "kernelspec": {
      "display_name": "Python 3",
      "name": "python3"
    },
    "language_info": {
      "name": "python"
    }
  },
  "cells": [
    {
      "cell_type": "code",
      "metadata": {
        "id": "2b6q4Mt-nTw0"
      },
      "source": [
        "import pandas as pd\n",
        "import numpy as np\n",
        "import matplotlib.pyplot as plt\n",
        "import seaborn as sns\n",
        "from sklearn.model_selection import train_test_split\n",
        "from sklearn.preprocessing import LabelEncoder\n",
        "from keras.models import Model\n",
        "from keras.layers import LSTM, Activation, Dense, Dropout, Input, Embedding\n",
        "from keras.optimizers import RMSprop\n",
        "from keras.preprocessing.text import Tokenizer\n",
        "from keras.preprocessing import sequence\n",
        "from tensorflow.keras.utils import to_categorical\n",
        "from keras.callbacks import EarlyStopping\n",
        "%matplotlib inline\n"
      ],
      "execution_count": 3,
      "outputs": []
    },
    {
      "cell_type": "markdown",
      "metadata": {
        "id": "SIL-F61BMXqS"
      },
      "source": [
        "Load the data into Pandas dataframe\n"
      ]
    },
    {
      "cell_type": "code",
      "metadata": {
        "id": "If0v-o7uMXNy"
      },
      "source": [
        ""
      ],
      "execution_count": null,
      "outputs": []
    },
    {
      "cell_type": "code",
      "metadata": {
        "id": "v2NRu2zdq4iM"
      },
      "source": [
        "details = pd.read_json('/content/drive/MyDrive/Kaggle/targetdir/IMDB_reviews.json',lines=True)\n"
      ],
      "execution_count": 5,
      "outputs": []
    },
    {
      "cell_type": "code",
      "metadata": {
        "colab": {
          "base_uri": "https://localhost:8080/",
          "height": 419
        },
        "id": "LgLCiUu2pen6",
        "outputId": "ffba3fce-52e6-490e-d5d5-de9db48ae7fd"
      },
      "source": [
        "details"
      ],
      "execution_count": 6,
      "outputs": [
        {
          "output_type": "execute_result",
          "data": {
            "text/html": [
              "<div>\n",
              "<style scoped>\n",
              "    .dataframe tbody tr th:only-of-type {\n",
              "        vertical-align: middle;\n",
              "    }\n",
              "\n",
              "    .dataframe tbody tr th {\n",
              "        vertical-align: top;\n",
              "    }\n",
              "\n",
              "    .dataframe thead th {\n",
              "        text-align: right;\n",
              "    }\n",
              "</style>\n",
              "<table border=\"1\" class=\"dataframe\">\n",
              "  <thead>\n",
              "    <tr style=\"text-align: right;\">\n",
              "      <th></th>\n",
              "      <th>review_date</th>\n",
              "      <th>movie_id</th>\n",
              "      <th>user_id</th>\n",
              "      <th>is_spoiler</th>\n",
              "      <th>review_text</th>\n",
              "      <th>rating</th>\n",
              "      <th>review_summary</th>\n",
              "    </tr>\n",
              "  </thead>\n",
              "  <tbody>\n",
              "    <tr>\n",
              "      <th>0</th>\n",
              "      <td>10 February 2006</td>\n",
              "      <td>tt0111161</td>\n",
              "      <td>ur1898687</td>\n",
              "      <td>True</td>\n",
              "      <td>In its Oscar year, Shawshank Redemption (writt...</td>\n",
              "      <td>10</td>\n",
              "      <td>A classic piece of unforgettable film-making.</td>\n",
              "    </tr>\n",
              "    <tr>\n",
              "      <th>1</th>\n",
              "      <td>6 September 2000</td>\n",
              "      <td>tt0111161</td>\n",
              "      <td>ur0842118</td>\n",
              "      <td>True</td>\n",
              "      <td>The Shawshank Redemption is without a doubt on...</td>\n",
              "      <td>10</td>\n",
              "      <td>Simply amazing. The best film of the 90's.</td>\n",
              "    </tr>\n",
              "    <tr>\n",
              "      <th>2</th>\n",
              "      <td>3 August 2001</td>\n",
              "      <td>tt0111161</td>\n",
              "      <td>ur1285640</td>\n",
              "      <td>True</td>\n",
              "      <td>I believe that this film is the best story eve...</td>\n",
              "      <td>8</td>\n",
              "      <td>The best story ever told on film</td>\n",
              "    </tr>\n",
              "    <tr>\n",
              "      <th>3</th>\n",
              "      <td>1 September 2002</td>\n",
              "      <td>tt0111161</td>\n",
              "      <td>ur1003471</td>\n",
              "      <td>True</td>\n",
              "      <td>**Yes, there are SPOILERS here**This film has ...</td>\n",
              "      <td>10</td>\n",
              "      <td>Busy dying or busy living?</td>\n",
              "    </tr>\n",
              "    <tr>\n",
              "      <th>4</th>\n",
              "      <td>20 May 2004</td>\n",
              "      <td>tt0111161</td>\n",
              "      <td>ur0226855</td>\n",
              "      <td>True</td>\n",
              "      <td>At the heart of this extraordinary movie is a ...</td>\n",
              "      <td>8</td>\n",
              "      <td>Great story, wondrously told and acted</td>\n",
              "    </tr>\n",
              "    <tr>\n",
              "      <th>...</th>\n",
              "      <td>...</td>\n",
              "      <td>...</td>\n",
              "      <td>...</td>\n",
              "      <td>...</td>\n",
              "      <td>...</td>\n",
              "      <td>...</td>\n",
              "      <td>...</td>\n",
              "    </tr>\n",
              "    <tr>\n",
              "      <th>573908</th>\n",
              "      <td>8 August 1999</td>\n",
              "      <td>tt0139239</td>\n",
              "      <td>ur0100166</td>\n",
              "      <td>False</td>\n",
              "      <td>Go is wise, fast and pure entertainment. Assem...</td>\n",
              "      <td>10</td>\n",
              "      <td>The best teen movie of the nineties</td>\n",
              "    </tr>\n",
              "    <tr>\n",
              "      <th>573909</th>\n",
              "      <td>31 July 1999</td>\n",
              "      <td>tt0139239</td>\n",
              "      <td>ur0021767</td>\n",
              "      <td>False</td>\n",
              "      <td>Well, what shall I say. this one´s fun at any ...</td>\n",
              "      <td>9</td>\n",
              "      <td>Go - see the movie</td>\n",
              "    </tr>\n",
              "    <tr>\n",
              "      <th>573910</th>\n",
              "      <td>20 July 1999</td>\n",
              "      <td>tt0139239</td>\n",
              "      <td>ur0392750</td>\n",
              "      <td>False</td>\n",
              "      <td>Go is the best movie I have ever seen, and I'v...</td>\n",
              "      <td>10</td>\n",
              "      <td>It's the best movie I've ever seen</td>\n",
              "    </tr>\n",
              "    <tr>\n",
              "      <th>573911</th>\n",
              "      <td>11 June 1999</td>\n",
              "      <td>tt0139239</td>\n",
              "      <td>ur0349105</td>\n",
              "      <td>False</td>\n",
              "      <td>Call this 1999 teenage version of Pulp Fiction...</td>\n",
              "      <td>3</td>\n",
              "      <td>Haven't we seen this before?</td>\n",
              "    </tr>\n",
              "    <tr>\n",
              "      <th>573912</th>\n",
              "      <td>3 May 1999</td>\n",
              "      <td>tt0139239</td>\n",
              "      <td>ur0156431</td>\n",
              "      <td>False</td>\n",
              "      <td>Why was this movie made? No doubt to sucker in...</td>\n",
              "      <td>2</td>\n",
              "      <td>Go doesn't go anywhere</td>\n",
              "    </tr>\n",
              "  </tbody>\n",
              "</table>\n",
              "<p>573913 rows × 7 columns</p>\n",
              "</div>"
            ],
            "text/plain": [
              "             review_date  ...                                 review_summary\n",
              "0       10 February 2006  ...  A classic piece of unforgettable film-making.\n",
              "1       6 September 2000  ...     Simply amazing. The best film of the 90's.\n",
              "2          3 August 2001  ...               The best story ever told on film\n",
              "3       1 September 2002  ...                     Busy dying or busy living?\n",
              "4            20 May 2004  ...         Great story, wondrously told and acted\n",
              "...                  ...  ...                                            ...\n",
              "573908     8 August 1999  ...            The best teen movie of the nineties\n",
              "573909      31 July 1999  ...                             Go - see the movie\n",
              "573910      20 July 1999  ...             It's the best movie I've ever seen\n",
              "573911      11 June 1999  ...                   Haven't we seen this before?\n",
              "573912        3 May 1999  ...                         Go doesn't go anywhere\n",
              "\n",
              "[573913 rows x 7 columns]"
            ]
          },
          "metadata": {
            "tags": []
          },
          "execution_count": 6
        }
      ]
    },
    {
      "cell_type": "code",
      "metadata": {
        "colab": {
          "base_uri": "https://localhost:8080/",
          "height": 366
        },
        "id": "KJ8Ud6QhrYHf",
        "outputId": "23c423b8-44d1-4197-b88c-190333f57441"
      },
      "source": [
        "sns.countplot(details.is_spoiler)\n",
        "plt.xlabel('Label')\n",
        "plt.title('Number of is_spoiler True or False messages')"
      ],
      "execution_count": 7,
      "outputs": [
        {
          "output_type": "stream",
          "text": [
            "/usr/local/lib/python3.7/dist-packages/seaborn/_decorators.py:43: FutureWarning: Pass the following variable as a keyword arg: x. From version 0.12, the only valid positional argument will be `data`, and passing other arguments without an explicit keyword will result in an error or misinterpretation.\n",
            "  FutureWarning\n"
          ],
          "name": "stderr"
        },
        {
          "output_type": "execute_result",
          "data": {
            "text/plain": [
              "Text(0.5, 1.0, 'Number of is_spoiler True or False messages')"
            ]
          },
          "metadata": {
            "tags": []
          },
          "execution_count": 7
        },
        {
          "output_type": "display_data",
          "data": {
            "image/png": "[encoded data removed]",
            "text/plain": [
              "<Figure size 432x288 with 1 Axes>"
            ]
          },
          "metadata": {
            "tags": [],
            "needs_background": "light"
          }
        }
      ]
    },
    {
      "cell_type": "code",
      "metadata": {
        "id": "DwffpBMzr3UF"
      },
      "source": [
        "X = details.review_text\n",
        "Y = details.is_spoiler\n",
        "le = LabelEncoder()\n",
        "Y = le.fit_transform(Y)\n",
        "Y = Y.reshape(-1,1)"
      ],
      "execution_count": null,
      "outputs": []
    },
    {
      "cell_type": "code",
      "metadata": {
        "id": "g8MXQXW2sG_y"
      },
      "source": [
        "X_train,X_test,Y_train,Y_test = train_test_split(X,Y,test_size=0.3)\n"
      ],
      "execution_count": null,
      "outputs": []
    },
    {
      "cell_type": "markdown",
      "metadata": {
        "id": "aTEDfakoLhf4"
      },
      "source": [
        "Process the data\n",
        "\n",
        "Tokenize the data and convert the text to sequences.\n",
        "\n",
        "Add padding to ensure that all the sequences have the same shape.\n",
        "\n",
        "There are many ways of taking the max_len and here an arbitrary length of 150 is chosen."
      ]
    },
    {
      "cell_type": "code",
      "metadata": {
        "id": "ZS-VO1qYsJsE"
      },
      "source": [
        "max_words = 1000\n",
        "max_len = 150\n",
        "tok = Tokenizer(num_words=max_words)\n",
        "tok.fit_on_texts(X_train)\n",
        "sequences = tok.texts_to_sequences(X_train)\n",
        "sequences_matrix = sequence.pad_sequences(sequences,maxlen=max_len)"
      ],
      "execution_count": null,
      "outputs": []
    },
    {
      "cell_type": "markdown",
      "metadata": {
        "id": "yDMbaaDILqxg"
      },
      "source": [
        "RNN"
      ]
    },
    {
      "cell_type": "code",
      "metadata": {
        "id": "kKAU1J0UsOwf"
      },
      "source": [
        "def LSTM():\n",
        "    inputs = Input(name='inputs',shape=[max_len])\n",
        "    layer = Embedding(max_words,50,input_length=max_len)(inputs)\n",
        "    layer = LSTM(64)(layer)\n",
        "    layer = Dense(256,name='FC1')(layer)\n",
        "    layer = Activation('relu')(layer)\n",
        "    layer = Dropout(0.5)(layer)\n",
        "    layer = Dense(1,name='out_layer')(layer)\n",
        "    layer = Activation('sigmoid')(layer)\n",
        "    model = Model(inputs=inputs,outputs=layer)\n",
        "    return model"
      ],
      "execution_count": null,
      "outputs": []
    },
    {
      "cell_type": "code",
      "metadata": {
        "colab": {
          "base_uri": "https://localhost:8080/"
        },
        "id": "eKLOnwleta9h",
        "outputId": "4b05775c-c273-41ea-ca93-265555d2284b"
      },
      "source": [
        "model = LSTM()\n",
        "model.summary()\n",
        "model.compile(loss='binary_crossentropy',optimizer=RMSprop(),metrics=['accuracy'])"
      ],
      "execution_count": null,
      "outputs": [
        {
          "output_type": "stream",
          "text": [
            "Model: \"model\"\n",
            "_________________________________________________________________\n",
            "Layer (type)                 Output Shape              Param #   \n",
            "=================================================================\n",
            "inputs (InputLayer)          [(None, 150)]             0         \n",
            "_________________________________________________________________\n",
            "embedding (Embedding)        (None, 150, 50)           50000     \n",
            "_________________________________________________________________\n",
            "lstm (LSTM)                  (None, 64)                29440     \n",
            "_________________________________________________________________\n",
            "FC1 (Dense)                  (None, 256)               16640     \n",
            "_________________________________________________________________\n",
            "activation (Activation)      (None, 256)               0         \n",
            "_________________________________________________________________\n",
            "dropout (Dropout)            (None, 256)               0         \n",
            "_________________________________________________________________\n",
            "out_layer (Dense)            (None, 1)                 257       \n",
            "_________________________________________________________________\n",
            "activation_1 (Activation)    (None, 1)                 0         \n",
            "=================================================================\n",
            "Total params: 96,337\n",
            "Trainable params: 96,337\n",
            "Non-trainable params: 0\n",
            "_________________________________________________________________\n"
          ],
          "name": "stdout"
        }
      ]
    },
    {
      "cell_type": "code",
      "metadata": {
        "colab": {
          "base_uri": "https://localhost:8080/"
        },
        "id": "QBFcy5a_tdVw",
        "outputId": "fff49f98-c4f6-452b-9043-a73d184ad68d"
      },
      "source": [
        "model.fit(sequences_matrix,Y_train,batch_size=128,epochs=10,validation_split=0.2)"
      ],
      "execution_count": null,
      "outputs": [
        {
          "output_type": "stream",
          "text": [
            "Epoch 1/10\n",
            "2511/2511 [==============================] - 42s 13ms/step - loss: 0.5418 - accuracy: 0.7429 - val_loss: 0.5444 - val_accuracy: 0.7383\n",
            "Epoch 2/10\n",
            "2511/2511 [==============================] - 32s 13ms/step - loss: 0.5123 - accuracy: 0.7528 - val_loss: 0.5071 - val_accuracy: 0.7564\n",
            "Epoch 3/10\n",
            "2511/2511 [==============================] - 33s 13ms/step - loss: 0.5027 - accuracy: 0.7620 - val_loss: 0.5031 - val_accuracy: 0.7598\n",
            "Epoch 4/10\n",
            "2511/2511 [==============================] - 33s 13ms/step - loss: 0.5003 - accuracy: 0.7638 - val_loss: 0.5050 - val_accuracy: 0.7599\n",
            "Epoch 5/10\n",
            "2511/2511 [==============================] - 33s 13ms/step - loss: 0.4978 - accuracy: 0.7641 - val_loss: 0.5027 - val_accuracy: 0.7540\n",
            "Epoch 6/10\n",
            "2511/2511 [==============================] - 33s 13ms/step - loss: 0.4952 - accuracy: 0.7658 - val_loss: 0.5059 - val_accuracy: 0.7624\n",
            "Epoch 7/10\n",
            "2511/2511 [==============================] - 32s 13ms/step - loss: 0.4948 - accuracy: 0.7663 - val_loss: 0.5015 - val_accuracy: 0.7625\n",
            "Epoch 8/10\n",
            "2511/2511 [==============================] - 33s 13ms/step - loss: 0.4903 - accuracy: 0.7692 - val_loss: 0.5025 - val_accuracy: 0.7627\n",
            "Epoch 9/10\n",
            "2511/2511 [==============================] - 32s 13ms/step - loss: 0.4893 - accuracy: 0.7703 - val_loss: 0.4998 - val_accuracy: 0.7649\n",
            "Epoch 10/10\n",
            "2511/2511 [==============================] - 32s 13ms/step - loss: 0.4844 - accuracy: 0.7732 - val_loss: 0.4984 - val_accuracy: 0.7641\n"
          ],
          "name": "stdout"
        },
        {
          "output_type": "execute_result",
          "data": {
            "text/plain": [
              "<tensorflow.python.keras.callbacks.History at 0x7ff103a25350>"
            ]
          },
          "metadata": {
            "tags": []
          },
          "execution_count": 11
        }
      ]
    },
    {
      "cell_type": "code",
      "metadata": {
        "id": "-HJDTeV9td8N"
      },
      "source": [
        "test_sequences = tok.texts_to_sequences(X_test)\n",
        "test_sequences_matrix = sequence.pad_sequences(test_sequences,maxlen=max_len)"
      ],
      "execution_count": null,
      "outputs": []
    },
    {
      "cell_type": "code",
      "metadata": {
        "colab": {
          "base_uri": "https://localhost:8080/"
        },
        "id": "o6LOBmV-xkvb",
        "outputId": "e5b8e81d-c459-4c79-a2b2-1df7e1f1397e"
      },
      "source": [
        "accr = model.evaluate(test_sequences_matrix,Y_test)"
      ],
      "execution_count": null,
      "outputs": [
        {
          "output_type": "stream",
          "text": [
            "5381/5381 [==============================] - 21s 4ms/step - loss: 0.4989 - accuracy: 0.7656\n"
          ],
          "name": "stdout"
        }
      ]
    },
    {
      "cell_type": "code",
      "metadata": {
        "colab": {
          "base_uri": "https://localhost:8080/"
        },
        "id": "oCOdGSh0xrZv",
        "outputId": "b3ce4d19-31fd-4573-e1d4-8045ec5dbc41"
      },
      "source": [
        "print('Test set\\n  Loss: {:0.3f}\\n  Accuracy: {:0.3f}'.format(accr[0],accr[1]))"
      ],
      "execution_count": null,
      "outputs": [
        {
          "output_type": "stream",
          "text": [
            "Test set\n",
            "  Loss: 0.499\n",
            "  Accuracy: 0.766\n"
          ],
          "name": "stdout"
        }
      ]
    },
    {
      "cell_type": "code",
      "metadata": {
        "id": "8U97B89Qji_-"
      },
      "source": [
        "%%shell\n",
        "jupyter nbconvert --to html /PATH/TO/YOUR/NOTEBOOKFILE.ipynb"
      ],
      "execution_count": null,
      "outputs": []
    }
  ]
}